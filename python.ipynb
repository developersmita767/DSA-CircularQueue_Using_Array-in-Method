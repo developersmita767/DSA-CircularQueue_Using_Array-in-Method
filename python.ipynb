{
  "nbformat": 4,
  "nbformat_minor": 0,
  "metadata": {
    "colab": {
      "provenance": [],
      "authorship_tag": "ABX9TyPXy/EwA9D9NUN1j+JfoT4P",
      "include_colab_link": true
    },
    "kernelspec": {
      "name": "python3",
      "display_name": "Python 3"
    },
    "language_info": {
      "name": "python"
    }
  },
  "cells": [
    {
      "cell_type": "markdown",
      "metadata": {
        "id": "view-in-github",
        "colab_type": "text"
      },
      "source": [
        "<a href=\"https://colab.research.google.com/github/developersmita767/DSA-CircularQueue_Using_Array-in-Method/blob/main/python.ipynb\" target=\"_parent\"><img src=\"https://colab.research.google.com/assets/colab-badge.svg\" alt=\"Open In Colab\"/></a>"
      ]
    },
    {
      "cell_type": "code",
      "execution_count": 2,
      "metadata": {
        "colab": {
          "base_uri": "https://localhost:8080/"
        },
        "id": "PtxldPSSpRJp",
        "outputId": "a7f988e4-3119-48a5-b60c-e28643510480"
      },
      "outputs": [
        {
          "output_type": "stream",
          "name": "stdout",
          "text": [
            "welcome to my world\n"
          ]
        }
      ],
      "source": [
        "print('welcome to my world')"
      ]
    },
    {
      "cell_type": "code",
      "source": [
        "data=20.4\n",
        "str='swati smita'\n",
        "print(str)\n",
        "print(data)"
      ],
      "metadata": {
        "colab": {
          "base_uri": "https://localhost:8080/"
        },
        "id": "lEqUiEGqqYO4",
        "outputId": "12f85ab5-8c1d-45bb-bdc0-0f79cee99f62"
      },
      "execution_count": 4,
      "outputs": [
        {
          "output_type": "stream",
          "name": "stdout",
          "text": [
            "swati smita\n",
            "20.4\n"
          ]
        }
      ]
    },
    {
      "cell_type": "code",
      "source": [
        "#WAP to print the output acc to index.\n",
        "str1='subhrasmita'\n",
        "print(str1[1])\n",
        "print(str1[-1])\n",
        "print(str1[5])"
      ],
      "metadata": {
        "colab": {
          "base_uri": "https://localhost:8080/"
        },
        "id": "vLswtA0xqvZw",
        "outputId": "63c0ff53-e42a-474d-8ab6-769b7276f234"
      },
      "execution_count": 5,
      "outputs": [
        {
          "output_type": "stream",
          "name": "stdout",
          "text": [
            "u\n",
            "a\n",
            "a\n"
          ]
        }
      ]
    },
    {
      "cell_type": "code",
      "source": [
        "#add two number in python\n",
        "a=10\n",
        "b=30\n",
        "c=a+b\n",
        "print(c)"
      ],
      "metadata": {
        "colab": {
          "base_uri": "https://localhost:8080/"
        },
        "id": "_dDAvSBlrex_",
        "outputId": "a83b171c-e985-4c0e-ae4f-62c50da81241"
      },
      "execution_count": 7,
      "outputs": [
        {
          "output_type": "stream",
          "name": "stdout",
          "text": [
            "40\n"
          ]
        }
      ]
    },
    {
      "cell_type": "code",
      "source": [
        "#take user input & add two number and type & id of output\n",
        "a=int(input('enter 1st number'))\n",
        "b=int(input('enter 2nd number'))\n",
        "c=a+b\n",
        "print(c)\n",
        "print(type(c))\n",
        "print(id(c))"
      ],
      "metadata": {
        "colab": {
          "base_uri": "https://localhost:8080/"
        },
        "id": "9A5mt-LVr7mg",
        "outputId": "b45db342-24cf-4833-d7bd-913e1146f7a5"
      },
      "execution_count": 10,
      "outputs": [
        {
          "output_type": "stream",
          "name": "stdout",
          "text": [
            "enter 1st number1\n",
            "enter 2nd number3\n",
            "4\n",
            "<class 'int'>\n",
            "139963254079824\n"
          ]
        }
      ]
    },
    {
      "cell_type": "code",
      "source": [
        "x=10\n",
        "print(id(x))\n",
        "y=x+1\n",
        "print(id(y))"
      ],
      "metadata": {
        "colab": {
          "base_uri": "https://localhost:8080/"
        },
        "id": "OCaO1BRPs5iU",
        "outputId": "66f20c5e-bbbd-4a54-9fc8-1ccd1cc26f1a"
      },
      "execution_count": 12,
      "outputs": [
        {
          "output_type": "stream",
          "name": "stdout",
          "text": [
            "139963254080016\n",
            "139963254080048\n"
          ]
        }
      ]
    },
    {
      "cell_type": "code",
      "source": [
        "#add two string\n",
        "str1='smita'\n",
        "str2='madam'\n",
        "str3=str1+str2\n",
        "print(str3)"
      ],
      "metadata": {
        "colab": {
          "base_uri": "https://localhost:8080/"
        },
        "id": "nQFFLw61tJo_",
        "outputId": "9da289ab-0bec-4cfa-9c29-d36491bca249"
      },
      "execution_count": 13,
      "outputs": [
        {
          "output_type": "stream",
          "name": "stdout",
          "text": [
            "smitamadam\n"
          ]
        }
      ]
    },
    {
      "cell_type": "code",
      "source": [
        "#sliceing\n",
        "str='smita is a attitude girl'#here we count also the space\n",
        "print(str[3])\n",
        "print(str[-5])\n",
        "print(str[0])\n",
        "\n",
        "#stringname[start:end:step]\n",
        "print(str[3:5])\n",
        "print(str[3:10:3])\n",
        "print(str[:])\n",
        "print(str[3:])\n",
        "print(str[:5])\n",
        "print(str[::1])\n",
        "print(str[::-1])\n"
      ],
      "metadata": {
        "colab": {
          "base_uri": "https://localhost:8080/"
        },
        "id": "OU4DMVjRtvsn",
        "outputId": "581d5203-7c87-44c9-9d80-b9c6eaf7b7df"
      },
      "execution_count": 15,
      "outputs": [
        {
          "output_type": "stream",
          "name": "stdout",
          "text": [
            "t\n",
            " \n",
            "s\n",
            "ta\n",
            "tia\n",
            "smita is a attitude girl\n",
            "ta is a attitude girl\n",
            "smita\n",
            "smita is a attitude girl\n",
            "lrig edutitta a si atims\n"
          ]
        }
      ]
    },
    {
      "cell_type": "code",
      "source": [
        "#List\n",
        "l=[10,20,30,40,50]\n",
        "print(l)\n",
        "l1=[10,'amit',34.5,30]\n",
        "print(l1)\n",
        "print(type(l1))\n",
        "print(len(l1))"
      ],
      "metadata": {
        "colab": {
          "base_uri": "https://localhost:8080/"
        },
        "id": "NokPflcOwZno",
        "outputId": "7a3c69a0-a076-4ef8-a8a8-5608af1eb063"
      },
      "execution_count": 16,
      "outputs": [
        {
          "output_type": "stream",
          "name": "stdout",
          "text": [
            "[10, 20, 30, 40, 50]\n",
            "[10, 'amit', 34.5, 30]\n",
            "<class 'list'>\n",
            "4\n"
          ]
        }
      ]
    },
    {
      "cell_type": "code",
      "source": [
        "str='smarak'\n",
        "print(str[0:5:2])"
      ],
      "metadata": {
        "colab": {
          "base_uri": "https://localhost:8080/"
        },
        "id": "jkNsjpD4xNlG",
        "outputId": "d5e8116a-9a48-4be2-d7ea-cef7e55b5469"
      },
      "execution_count": 17,
      "outputs": [
        {
          "output_type": "stream",
          "name": "stdout",
          "text": [
            "saa\n"
          ]
        }
      ]
    },
    {
      "cell_type": "code",
      "source": [
        "#constructor\n",
        "l=list((10,20,30,40))\n",
        "print(l)"
      ],
      "metadata": {
        "colab": {
          "base_uri": "https://localhost:8080/"
        },
        "id": "Fdi0B4nGxafy",
        "outputId": "3aadecb3-2863-4d0f-cc8f-9cb96356aafd"
      },
      "execution_count": 19,
      "outputs": [
        {
          "output_type": "stream",
          "name": "stdout",
          "text": [
            "[10, 20, 30, 40]\n"
          ]
        }
      ]
    },
    {
      "cell_type": "code",
      "source": [
        "l=[] #empty list\n",
        "print(l)\n",
        "print(type(l))\n",
        "l.append(10) #append function use to add element in end of the list.\n",
        "print(l)"
      ],
      "metadata": {
        "colab": {
          "base_uri": "https://localhost:8080/"
        },
        "id": "_bHniZdfyH5T",
        "outputId": "8016e83d-f47b-428f-df78-85af0c427aa9"
      },
      "execution_count": 23,
      "outputs": [
        {
          "output_type": "stream",
          "name": "stdout",
          "text": [
            "[]\n",
            "<class 'list'>\n",
            "[10]\n"
          ]
        }
      ]
    },
    {
      "cell_type": "code",
      "source": [
        "l=[10,20,30,40,50]\n",
        "print(l)\n",
        "print(l[4])\n",
        "print(l[-1])\n",
        "print(l[::])\n",
        "l.append(60)\n",
        "print(l)"
      ],
      "metadata": {
        "colab": {
          "base_uri": "https://localhost:8080/"
        },
        "id": "YZy8pp5uyr6j",
        "outputId": "0ff46975-d5ab-4c7d-d5ce-e804beb07c23"
      },
      "execution_count": 24,
      "outputs": [
        {
          "output_type": "stream",
          "name": "stdout",
          "text": [
            "[10, 20, 30, 40, 50]\n",
            "50\n",
            "50\n",
            "[10, 20, 30, 40, 50]\n",
            "[10, 20, 30, 40, 50, 60]\n"
          ]
        }
      ]
    },
    {
      "cell_type": "code",
      "source": [
        "# if else use\n",
        "l=[10,20,30,40,50]\n",
        "if 10 in l:\n",
        "    print('yes')\n",
        "else:\n",
        "  print('no')\n",
        "\n"
      ],
      "metadata": {
        "colab": {
          "base_uri": "https://localhost:8080/"
        },
        "id": "Jf55Lm4kzznQ",
        "outputId": "28465593-fda3-4c00-eac3-e26bdef7bfa4"
      },
      "execution_count": 27,
      "outputs": [
        {
          "output_type": "stream",
          "name": "stdout",
          "text": [
            "yes\n"
          ]
        }
      ]
    },
    {
      "cell_type": "code",
      "source": [
        "l1=('apple','grape','orange')\n",
        "if 'apple' in l1:\n",
        "      print('yes')\n",
        "else:\n",
        "  print('no')"
      ],
      "metadata": {
        "colab": {
          "base_uri": "https://localhost:8080/"
        },
        "id": "zPawctsp1QhJ",
        "outputId": "17f63435-46df-44f8-cdfd-6d1c02c8bc02"
      },
      "execution_count": 28,
      "outputs": [
        {
          "output_type": "stream",
          "name": "stdout",
          "text": [
            "yes\n"
          ]
        }
      ]
    },
    {
      "cell_type": "code",
      "source": [
        "# sum of all element in list\n",
        "l=[10,20,30,40,50]\n",
        "sum=0\n",
        "for ele in l:\n",
        "  sum=sum+ele\n",
        "print(sum)"
      ],
      "metadata": {
        "colab": {
          "base_uri": "https://localhost:8080/"
        },
        "id": "2g6rNTXb1eWJ",
        "outputId": "bf8fe359-1349-4346-e660-cac7a8f1f2ae"
      },
      "execution_count": 30,
      "outputs": [
        {
          "output_type": "stream",
          "name": "stdout",
          "text": [
            "150\n"
          ]
        }
      ]
    },
    {
      "cell_type": "code",
      "source": [
        "# Range\n",
        "for j in range(15):\n",
        "    print(j)"
      ],
      "metadata": {
        "colab": {
          "base_uri": "https://localhost:8080/"
        },
        "id": "N1tdR6fv12p_",
        "outputId": "f42d1fc2-eae4-4a9a-9928-3360c6e60b2f"
      },
      "execution_count": 33,
      "outputs": [
        {
          "output_type": "stream",
          "name": "stdout",
          "text": [
            "0\n",
            "1\n",
            "2\n",
            "3\n",
            "4\n",
            "5\n",
            "6\n",
            "7\n",
            "8\n",
            "9\n",
            "10\n",
            "11\n",
            "12\n",
            "13\n",
            "14\n"
          ]
        }
      ]
    },
    {
      "cell_type": "code",
      "source": [
        "l=[10,20,30,40,50]\n",
        "for i in  l:\n",
        "  print(i)\n",
        "n=len(l)\n",
        "print(n)\n",
        "\n",
        ""
      ],
      "metadata": {
        "colab": {
          "base_uri": "https://localhost:8080/"
        },
        "id": "Dx8FeCBO2PEZ",
        "outputId": "d8ea7759-7dc4-4957-b3b4-8c5365c78f21"
      },
      "execution_count": 36,
      "outputs": [
        {
          "output_type": "stream",
          "name": "stdout",
          "text": [
            "10\n",
            "20\n",
            "30\n",
            "40\n",
            "50\n",
            "5\n"
          ]
        }
      ]
    },
    {
      "cell_type": "code",
      "source": [
        "# use function\n",
        "def hello():\n",
        "  print('i am good')\n",
        "hello()"
      ],
      "metadata": {
        "colab": {
          "base_uri": "https://localhost:8080/"
        },
        "id": "iPJ3lv8_3Udl",
        "outputId": "f4589ee5-1c32-425e-dd61-b5463d344ba3"
      },
      "execution_count": 37,
      "outputs": [
        {
          "output_type": "stream",
          "name": "stdout",
          "text": [
            "i am good\n"
          ]
        }
      ]
    },
    {
      "cell_type": "code",
      "source": [
        "def sum(x,y):\n",
        " return x+y\n",
        "x=int(input('enter 1st number'))\n",
        "y=int(input('enter 2nd number'))\n",
        "c=sum(x,y)\n",
        "print(c)\n"
      ],
      "metadata": {
        "colab": {
          "base_uri": "https://localhost:8080/"
        },
        "id": "nxaBbQC-4L0I",
        "outputId": "6cb044bd-b439-4dcd-e146-d2019f18a8ea"
      },
      "execution_count": 39,
      "outputs": [
        {
          "output_type": "stream",
          "name": "stdout",
          "text": [
            "enter 1st number5\n",
            "enter 2nd number8\n",
            "13\n"
          ]
        }
      ]
    }
  ]
}